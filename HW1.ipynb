{
 "cells": [
  {
   "cell_type": "code",
   "execution_count": 1,
   "metadata": {},
   "outputs": [],
   "source": [
    "#import all libs needed in the homework\n",
    "import numpy as np\n",
    "import matplotlib.pyplot as plt\n",
    "import matplotlib.patches as mpatches\n",
    "import math\n",
    "from sympy import *\n",
    "\n",
    "%matplotlib inline"
   ]
  },
  {
   "cell_type": "markdown",
   "metadata": {},
   "source": [
    "### Problem 1"
   ]
  },
  {
   "cell_type": "code",
   "execution_count": 2,
   "metadata": {
    "scrolled": false
   },
   "outputs": [
    {
     "data": {
      "image/png": "[encoded data removed]",
      "text/plain": [
       "<Figure size 432x288 with 1 Axes>"
      ]
     },
     "metadata": {
      "needs_background": "light"
     },
     "output_type": "display_data"
    }
   ],
   "source": [
    "# Problem 1\n",
    "import numpy as np\n",
    "import matplotlib.pyplot as plt\n",
    "import matplotlib.patches as mpatches\n",
    "\n",
    "#define f(x)\n",
    "def f(x):\n",
    "    y = x**3 - 6*(x**2) + 7*x -2\n",
    "    return y\n",
    "    \n",
    "#define the samples in the interval (3, 5)\n",
    "x = np.linspace(3, 5, 100)\n",
    "\n",
    "#evaluate f(x) at x\n",
    "y = f(x)\n",
    "\n",
    "#illustrate the function f(x) in the interval (3, 5)\n",
    "plt.plot(x, y, 'red', label='f(x)=x^3-6*x^2+7*x-2')\n",
    "\n",
    "#Add Axes and a legend\n",
    "red_patch = mpatches.Patch(color='red', label='f(x)=x^3-6*x^2+7*x-2')\n",
    "plt.legend(handles=[red_patch])\n",
    "plt.xlabel('x')\n",
    "plt.ylabel('f(x)')\n",
    "plt.grid()\n",
    "plt.show()"
   ]
  },
  {
   "cell_type": "code",
   "execution_count": 3,
   "metadata": {
    "scrolled": false
   },
   "outputs": [
    {
     "name": "stdout",
     "output_type": "stream",
     "text": [
      "Root Estimate #1 : p(1) = 4.000000000e+00            actual error #1 : err(1) = 6.000000\n",
      "Root Estimate #2 : p(2) = 4.500000000e+00            actual error #2 : err(2) = 0.875000\n",
      "Root Estimate #3 : p(3) = 4.750000000e+00            actual error #3 : err(3) = 3.046875\n",
      "Root Estimate #4 : p(4) = 4.625000000e+00            actual error #4 : err(4) = 0.962891\n",
      "Root Estimate #5 : p(5) = 4.562500000e+00            actual error #5 : err(5) = 0.013916\n"
     ]
    },
    {
     "data": {
      "image/png": "[encoded data removed]",
      "text/plain": [
       "<Figure size 432x288 with 1 Axes>"
      ]
     },
     "metadata": {
      "needs_background": "light"
     },
     "output_type": "display_data"
    }
   ],
   "source": [
    "#bisection method\n",
    "#define the first extremes a1 and b1 of the interval\n",
    "a1 = 3\n",
    "b1 = 5\n",
    "\n",
    "#define iteration number 'N'\n",
    "#define a matrix 'p' to store estimated root calulated in N iterations\n",
    "#defint a matrix 'errors' to store the actual errors of each estimated root\n",
    "N = 5\n",
    "p = np.zeros(5)\n",
    "errors = np.zeros(5)\n",
    "\n",
    "#make N iterations\n",
    "for i in range(0, N):\n",
    "    p[i] = a1 + (b1 - a1) / 2\n",
    "    errors[i] = abs(f(p[i]) - errors[i])\n",
    "    print(\"Root Estimate #{0:d} : p({1:d}) = {2:10.9e} \\\n",
    "           actual error #{3:d} : err({4:d}) = {5:f}\"\n",
    "          .format(i+1, i+1, p[i], i+1, i+1, errors[i]))\n",
    "    if f(p[i]) * f(a1) < 0:\n",
    "        b1 = p[i]\n",
    "    elif f(p[i]) * f(a1) > 0:\n",
    "        a1 = p[i]\n",
    "    else:\n",
    "        print(p[i] + ' is the root of the equation in the interval(3, 5)')\n",
    "        \n",
    "plt.plot(np.linspace(1,5,5), errors)        \n",
    "plt.plot(np.linspace(1,5,5), errors, 'o')\n",
    "plt.xlabel('iterations')\n",
    "plt.ylabel('error')\n",
    "plt.grid()\n",
    "plt.show()"
   ]
  },
  {
   "cell_type": "markdown",
   "metadata": {},
   "source": [
    "#### A: It is evident that acutal errors do not steadily decrease."
   ]
  },
  {
   "cell_type": "markdown",
   "metadata": {},
   "source": [
    "###  \n",
    "###  \n",
    "###  \n",
    "### Problem 2"
   ]
  },
  {
   "cell_type": "code",
   "execution_count": 4,
   "metadata": {},
   "outputs": [
    {
     "name": "stdout",
     "output_type": "stream",
     "text": [
      "3.141592 is the value found by bisection of pi\n"
     ]
    }
   ],
   "source": [
    "#Problem 2\n",
    "# Because the stem gives the interval (3, 4)\n",
    "# in that interval, only sin(pi) = 0 and the function is monotonic\n",
    "\n",
    "import math\n",
    "\n",
    "#define f2(x) = sinx\n",
    "def f2(x):\n",
    "    var = math.sin(x) \n",
    "    return var\n",
    "\n",
    "#define the interval (3, 4)\n",
    "a2 = 3\n",
    "b2 = 4\n",
    "\n",
    "#define the allowable error range(5 decimal)\n",
    "eps = 0.000001\n",
    "\n",
    "#define a list to store estimated root and initial the list\n",
    "p2 = []\n",
    "p2_first = a2 + (b2-a2)/2\n",
    "p2.append(p2_first)\n",
    "\n",
    "#iteration\n",
    "while abs(f2(p2[-1])) > eps:\n",
    "    if f2(p2[-1]) * f2(a2) > 0:\n",
    "        a2 = p2[-1]\n",
    "    elif f2(p2[-1]) * f2(a2) < 0:\n",
    "        b2 = p2[-1]\n",
    "    else:\n",
    "        break\n",
    "    p2_next = a2 + (b2-a2)/2 \n",
    "    p2.append(p2_next)\n",
    "\n",
    "#print out final answer\n",
    "print(\"{0:f} is the value found by bisection of pi\".format(p2[-1]))"
   ]
  },
  {
   "cell_type": "markdown",
   "metadata": {},
   "source": [
    "#### A: 3.141592 is the value found by bisection of pi\n",
    "\n",
    "\n",
    "\n",
    "\n",
    "\n",
    "\n",
    "\n"
   ]
  },
  {
   "cell_type": "markdown",
   "metadata": {},
   "source": [
    "###  \n",
    "###  \n",
    "###  \n",
    "###  \n",
    "###  \n",
    "###  \n",
    "### Problem 3"
   ]
  },
  {
   "cell_type": "markdown",
   "metadata": {},
   "source": [
    "#### Limitation 1: It can only find one root in a given interval.\n",
    "##### For example, define the function g(x) = x(x-1)(x-2). Find the roots that lie in the interval (-1, 2.5)"
   ]
  },
  {
   "cell_type": "code",
   "execution_count": 5,
   "metadata": {},
   "outputs": [
    {
     "name": "stdout",
     "output_type": "stream",
     "text": [
      "Find the root x = 0.000000\n"
     ]
    }
   ],
   "source": [
    "#Example 1\n",
    "def g(x):\n",
    "    var = x*(x-1)*(x-2)\n",
    "    return var\n",
    "\n",
    "a3 = -1\n",
    "b3 = 2.5\n",
    "\n",
    "eps = 0.00001\n",
    "p3 = []\n",
    "p3_first = a3 + (b3-a3)/2\n",
    "p3.append(round(p3_first, 3))\n",
    "\n",
    "#iteration\n",
    "while abs(g(p3[-1])) > eps:\n",
    "    if g(p3[-1]) * g(a3) > 0:\n",
    "        a3 = p3[-1]\n",
    "    elif g(p3[-1]) * g(a3) < 0:\n",
    "        b3 = p3[-1]\n",
    "    else:\n",
    "        break\n",
    "    p3_next = a3 + (b3-a3)/2 \n",
    "    p3.append(round(p3_next, 3))\n",
    "print('Find the root x = {0:f}'.format(p3[-1]))"
   ]
  },
  {
   "cell_type": "markdown",
   "metadata": {},
   "source": [
    "##### In this case, the bisection method only found x = 0. But x=1 and x=2 lie in the interval too."
   ]
  },
  {
   "cell_type": "markdown",
   "metadata": {},
   "source": [
    "#### Limitation 2: It converges linearly, so it may waste much time.\n",
    "##### For example, define the function g(x) = x(x-1)(x-2). Find the convergence order of bisection method."
   ]
  },
  {
   "cell_type": "code",
   "execution_count": 6,
   "metadata": {},
   "outputs": [
    {
     "data": {
      "image/png": "[encoded data removed]",
      "text/plain": [
       "<Figure size 432x288 with 1 Axes>"
      ]
     },
     "metadata": {
      "needs_background": "light"
     },
     "output_type": "display_data"
    },
    {
     "name": "stdout",
     "output_type": "stream",
     "text": [
      "Convergence order is 1.010335, aprroximately equal to 1\n"
     ]
    }
   ],
   "source": [
    "#Example 2\n",
    "err3 = []\n",
    "logerr3_k = []\n",
    "logerr3_k1 = []\n",
    "for i in range(len(p3)-1):\n",
    "    err3.append(abs(p3[i+1] - p3[i]))\n",
    "    logerr3_k.append(math.log(err3[-1]))  #log(err_k)\n",
    "logerr3_k1 = logerr3_k[1:]                #log(err_k+1)\n",
    "\n",
    "x3 = logerr3_k1\n",
    "y3 = logerr3_k[0:len(x3)]\n",
    "coefs3 = np.polyfit(x3, y3, 1)\n",
    "z3 = coefs3[[0]] * x3 + coefs3[[1]]\n",
    "r3 = float(coefs3[[0]])\n",
    "\n",
    "plt.plot(x3, z3)\n",
    "plt.plot(x3, y3, 'o')\n",
    "plt.xlabel('log(err_k)')\n",
    "plt.ylabel('log(err_k+1)')\n",
    "plt.grid()\n",
    "plt.show()\n",
    "\n",
    "print('Convergence order is {0:f}, aprroximately equal to 1'.format(abs(r3)))"
   ]
  },
  {
   "cell_type": "markdown",
   "metadata": {},
   "source": [
    "##### In this case, convergence order is approximately equal to 1, which means the convergency is linear and slow.\n",
    "###  \n",
    "###  \n",
    "###  \n",
    "###  "
   ]
  },
  {
   "cell_type": "markdown",
   "metadata": {},
   "source": [
    "###  \n",
    "###  \n",
    "###  \n",
    "###  \n",
    "### Problem 4"
   ]
  },
  {
   "cell_type": "code",
   "execution_count": 7,
   "metadata": {},
   "outputs": [
    {
     "name": "stdout",
     "output_type": "stream",
     "text": [
      "After 5 iterations, the estimated root is 1.379730\n"
     ]
    }
   ],
   "source": [
    "#Problem 4\n",
    "# (a)\n",
    "#define the function\n",
    "def f4(x):\n",
    "    var4 = x**5 - 5\n",
    "    return var4\n",
    "\n",
    "#define the deivative function\n",
    "def df4(x):\n",
    "    dvar4 = 5 * (x**4)\n",
    "    return dvar4\n",
    "\n",
    "#define the interval (1, 2)\n",
    "a4 = 1\n",
    "b4 = 2\n",
    "\n",
    "#let the iteration start at x = 1.9\n",
    "#set the times of iteration as N\n",
    "start = 1.9\n",
    "N = 6\n",
    "p4 = []\n",
    "p4.append(start)\n",
    "#iteration\n",
    "for i in range(N):\n",
    "    assert df4(p4[i]) != 0, \"DENOMINATOR CANNOT BE 0!\"\n",
    "    p4_tmp = p4[i] - f4(p4[i]) / df4(p4[i])\n",
    "    p4.append(p4_tmp)\n",
    "print(\"After 5 iterations, the estimated root is {0:f}\".format(p4[5]))"
   ]
  },
  {
   "cell_type": "code",
   "execution_count": 8,
   "metadata": {},
   "outputs": [
    {
     "name": "stdout",
     "output_type": "stream",
     "text": [
      "|pn - pn-1| - |pn-1 - p| + |pn - p| =\n",
      "[0. 0. 0. 0. 0.]\n"
     ]
    }
   ],
   "source": [
    "#(b)\n",
    "#set |pn - pn-1| = delta_p4_1; |pn-1 - p| = delta_p4_2; |pn - p| = delta_p4_3\n",
    "delta_p4_1 = []\n",
    "delta_p4_2 = []\n",
    "delta_p4_3 = []\n",
    "for ii in range(N-1):\n",
    "    delta_p4_1.append(abs(p4[ii+1] - p4[ii]))\n",
    "    delta_p4_2.append(abs(p4[ii] - p4[N]))\n",
    "    delta_p4_3.append(abs(p4[ii+1] - p4[N]))\n",
    "    \n",
    "arr1 = np.array(delta_p4_1)\n",
    "arr2 = np.array(delta_p4_2)\n",
    "arr3 = np.array(delta_p4_3)\n",
    "#|pn - pn-1| = |pn-1 - p| - |pn - p| i.e. delta_p4_1 = delta_p4_2 - delta_p4_3\n",
    "print(\"|pn - pn-1| - |pn-1 - p| + |pn - p| =\")\n",
    "print(arr1 + arr3 - arr2)"
   ]
  },
  {
   "cell_type": "markdown",
   "metadata": {},
   "source": [
    "##### $\\therefore |p_{n} - p_{n-1}| = |p_{n-1} - p| - |p_{n} - p|$"
   ]
  },
  {
   "cell_type": "code",
   "execution_count": 9,
   "metadata": {},
   "outputs": [
    {
     "name": "stdout",
     "output_type": "stream",
     "text": [
      "[6.47863745e-01 3.55977857e-01 1.01539533e-01 7.47782846e-03\n",
      " 3.89015825e-05]\n"
     ]
    },
    {
     "data": {
      "image/png": "[encoded data removed]",
      "text/plain": [
       "<Figure size 432x288 with 1 Axes>"
      ]
     },
     "metadata": {
      "needs_background": "light"
     },
     "output_type": "display_data"
    }
   ],
   "source": [
    "#(c)\n",
    "ratio_4 = arr3 / arr2 / arr2\n",
    "\n",
    "def ddf4(x):\n",
    "    ddvar = 5 * 4 * (x**3)\n",
    "    return ddvar\n",
    "\n",
    "ratio_final = abs(ddf4(p4[-1])/ (2 * df4(p4[-1])))\n",
    "\n",
    "x4 = np.array(range(1, 6))\n",
    "print(abs(ratio_4 - ratio_final))\n",
    "plt.plot(x4, abs(ratio_4 - ratio_final))\n",
    "plt.plot(x4, abs(ratio_4 - ratio_final), 'o')\n",
    "plt.xlabel('iterations')\n",
    "plt.ylabel(\"|f''(p)/2f'(p)| - |pn - p|/(|pn-1 - p|)^2\")\n",
    "plt.grid()\n",
    "plt.show()"
   ]
  },
  {
   "cell_type": "markdown",
   "metadata": {},
   "source": [
    "##### It is evident from the figure that ratio  $|p_n - p| / |p_n - p|^2$  approaches to $|f''(p)/2f'(p)|$ \n",
    "###  \n",
    "###  \n",
    "###  \n",
    "###  \n",
    "###  "
   ]
  },
  {
   "cell_type": "markdown",
   "metadata": {},
   "source": [
    "###  \n",
    "###   \n",
    "###  \n",
    "### Problem 5"
   ]
  },
  {
   "cell_type": "code",
   "execution_count": 10,
   "metadata": {},
   "outputs": [],
   "source": [
    "#Problem 5\n",
    "#define the function of Newton_method\n",
    "def Newton_method(start_point, f, df, epoch = 0, eps = -1):\n",
    "    p = []\n",
    "    p.append(start_point)\n",
    "    if epoch != 0:\n",
    "        for i in range(epoch):\n",
    "            assert df(p[i]) != 0, \"DENOMINATOR CANNOT BE 0!\"\n",
    "            p_tmp = p[i] - f(p[i]) / df(p[i])\n",
    "            p.append(p_tmp)\n",
    "    if eps != -1:\n",
    "        assert df(p[-1]) != 0, \"DENOMINATOR CANNOT BE 0!\"\n",
    "        p.append(p[-1] - f(p[-1]) / df(p[-1]))\n",
    "        while(abs(p[-1] - p[-2]) > eps):\n",
    "            assert df(p[-1]) != 0, \"DENOMINATOR CANNOT BE 0!\"\n",
    "            p_tmp = p[-1] - f(p[-1]) / df(p[-1])\n",
    "            p.append(p_tmp)\n",
    "    return p\n",
    "\n",
    "#define the function to calculate log(en)\n",
    "def getError(rootlist, form, real_root = -999):\n",
    "    err = []\n",
    "    if form == 'log':\n",
    "        for i in range(len(rootlist)-1):\n",
    "#             print(i)\n",
    "            err.append(math.log(abs(rootlist[i+1]-rootlist[i])))\n",
    "    if form == 'ordinary' :\n",
    "        for i in range(len(rootlist)-1):\n",
    "            err.append(abs(rootlist[i+1]-rootlist[i]))\n",
    "    if form == 'absolute':\n",
    "        for i in range(len(rootlist)):\n",
    "            err.append(abs(rootlist[i] - real_root))\n",
    "    return err\n",
    "\n",
    "#define the function to plot log(en) against log(en-1)\n",
    "def plotLogErrorFigure(rootlist):\n",
    "    logen = getError(rootlist, \"log\")\n",
    "    logen1 = logen[:-1]\n",
    "    x = logen1\n",
    "    y = logen[1:]\n",
    "    coefs = np.polyfit(x, y, 1)\n",
    "    z = coefs[[0]] * x + coefs[[1]]\n",
    "    plt.plot(x, z)\n",
    "    plt.plot(x, y, 'o')\n",
    "    plt.xlabel('log(en-1)')\n",
    "    plt.ylabel('log(en)')\n",
    "    plt.grid()\n",
    "\n",
    "def calCoefficient(rootlist):\n",
    "    list_tmp = getError(rootlist, 'log')\n",
    "    x = list_tmp[:-1]\n",
    "    y = list_tmp[1:]\n",
    "    coefs = np.polyfit(x, y, 1)\n",
    "    return coefs"
   ]
  },
  {
   "cell_type": "markdown",
   "metadata": {},
   "source": [
    "##### (a) $\\because f'(x) = - e^x + 1$     $\\therefore f'(0) = 0$\n",
    "#####  $\\therefore f(x)$ monotonically increase in $(-\\infty, 0)$,  monotonically decrease in $(0, \\infty)$\n",
    "#####  $\\because f(0) = 1 > 0 $ $\\therefore f(x)$ has at most 2 roots"
   ]
  },
  {
   "cell_type": "code",
   "execution_count": 11,
   "metadata": {},
   "outputs": [
    {
     "data": {
      "image/png": "[encoded data removed]",
      "text/plain": [
       "<Figure size 432x288 with 2 Axes>"
      ]
     },
     "metadata": {
      "needs_background": "light"
     },
     "output_type": "display_data"
    },
    {
     "name": "stdout",
     "output_type": "stream",
     "text": [
      "The order calculated of root_1 is 2.063485, which is approximate equal to 2.\n",
      "The order calculated of root_2 is 1.985015, which is approximate equal to 2.\n"
     ]
    }
   ],
   "source": [
    "# (a)\n",
    "def f5_a(x):\n",
    "    var5a = - math.e**x + x + 2\n",
    "    return var5a\n",
    "\n",
    "def df5_a(x):\n",
    "    dvar5a = - math.e**x + 1\n",
    "    return dvar5a\n",
    "\n",
    "#set parameters\n",
    "start_point_1 = -1\n",
    "start_point_2 = 1\n",
    "epsilon = 1e-6\n",
    "\n",
    "#iterations, get rootlist\n",
    "p5_a_1 = Newton_method(start_point_1, f5_a, df5_a, eps = epsilon)\n",
    "p5_a_2 = Newton_method(start_point_2, f5_a, df5_a, eps = epsilon)\n",
    "\n",
    "#root estimated\n",
    "root_a_1 = p5_a_1[-1]\n",
    "root_a_2 = p5_a_2[-1]    \n",
    "\n",
    "#plot\n",
    "plt.subplot(121)\n",
    "plotLogErrorFigure(p5_a_1)\n",
    "plt.title('root_1 = {0:f}'.format(root_a_1))\n",
    "plt.subplot(122)\n",
    "plotLogErrorFigure(p5_a_2)\n",
    "plt.title('root_2 = {0:f}'.format(root_a_2))\n",
    "plt.show()\n",
    "\n",
    "#output\n",
    "coefs5_a_1 = calCoefficient(p5_a_1)\n",
    "coefs5_a_2 = calCoefficient(p5_a_2)\n",
    "print(\"The order calculated of root_1 is {0:f}, which is approximate equal to 2.\"\n",
    "      .format(float(coefs5_a_1[[0]])))\n",
    "print(\"The order calculated of root_2 is {0:f}, which is approximate equal to 2.\"\n",
    "      .format(float(coefs5_a_2[[0]])))"
   ]
  },
  {
   "cell_type": "code",
   "execution_count": 12,
   "metadata": {},
   "outputs": [
    {
     "data": {
      "image/png": "[encoded data removed]",
      "text/plain": [
       "<Figure size 432x288 with 3 Axes>"
      ]
     },
     "metadata": {
      "needs_background": "light"
     },
     "output_type": "display_data"
    },
    {
     "name": "stdout",
     "output_type": "stream",
     "text": [
      "The order calculated of root_1 is 1.822496, which is approximate equal to 2.\n",
      "The order calculated of root_2 is 1.991429, which is approximate equal to 2.\n",
      "The order calculated of root_3 is 1.972865, which is approximate equal to 2.\n"
     ]
    }
   ],
   "source": [
    "#(b)\n",
    "def f5_b(x):\n",
    "    var = x**3 - x**2 - 10*x +11\n",
    "    return var\n",
    "\n",
    "def df5_b(x):\n",
    "    dvar = 3*x**2 -2*x -10\n",
    "    return dvar\n",
    "\n",
    "#set parameters\n",
    "start_point_1 = -1\n",
    "start_point_2 = 1\n",
    "start_point_3 = -10\n",
    "epsilon = 1e-6\n",
    "\n",
    "#iterations, get rootlist\n",
    "p5_b_1 = Newton_method(start_point_1, f5_b, df5_b, eps = epsilon)\n",
    "p5_b_2 = Newton_method(start_point_2, f5_b, df5_b, eps = epsilon)\n",
    "p5_b_3 = Newton_method(start_point_3, f5_b, df5_b, eps = epsilon)\n",
    "\n",
    "#root estimated\n",
    "root_b_1 = p5_b_1[-1]\n",
    "root_b_2 = p5_b_2[-1]\n",
    "root_b_3 = p5_b_3[-1]\n",
    "\n",
    "#plot\n",
    "plt.subplot(131)\n",
    "plotLogErrorFigure(p5_b_1)\n",
    "plt.title('root_1 = {0:f}'.format(root_b_1))\n",
    "plt.subplot(132)\n",
    "plotLogErrorFigure(p5_b_2)\n",
    "plt.title('root_2 = {0:f}'.format(root_b_2))\n",
    "plt.subplot(133)\n",
    "plotLogErrorFigure(p5_b_3)\n",
    "plt.title('root_3 = {0:f}'.format(root_b_3))\n",
    "plt.show()\n",
    "\n",
    "#output\n",
    "coefs5_b_1 = calCoefficient(p5_b_1)\n",
    "coefs5_b_2 = calCoefficient(p5_b_2)\n",
    "coefs5_b_3 = calCoefficient(p5_b_3)\n",
    "print(\"The order calculated of root_1 is {0:f}, which is approximate equal to 2.\"\n",
    "      .format(float(coefs5_b_1[[0]])))\n",
    "print(\"The order calculated of root_2 is {0:f}, which is approximate equal to 2.\"\n",
    "      .format(float(coefs5_b_2[[0]])))\n",
    "print(\"The order calculated of root_3 is {0:f}, which is approximate equal to 2.\"\n",
    "      .format(float(coefs5_b_3[[0]])))"
   ]
  },
  {
   "cell_type": "code",
   "execution_count": 13,
   "metadata": {},
   "outputs": [
    {
     "data": {
      "image/png": "[encoded data removed]",
      "text/plain": [
       "<Figure size 432x288 with 2 Axes>"
      ]
     },
     "metadata": {
      "needs_background": "light"
     },
     "output_type": "display_data"
    },
    {
     "name": "stdout",
     "output_type": "stream",
     "text": [
      "The order calculated of root_1 is 2.041171, which is approximate equal to 2.\n",
      "The order calculated of root_2 is 1.891812, which is approximate equal to 2.\n"
     ]
    }
   ],
   "source": [
    "#(c)\n",
    "def f5_c(x):\n",
    "    var = 2 - x + math.log(x)\n",
    "    return var\n",
    "\n",
    "def df5_c(x):\n",
    "    var = -1 + 1/x\n",
    "    return var\n",
    "\n",
    "#set parameters\n",
    "start_point_1 = 0.1\n",
    "start_point_2 = 10\n",
    "epsilon = 1e-6\n",
    "\n",
    "#iterations, get rootlist\n",
    "p5_c_1 = Newton_method(start_point_1, f5_c, df5_c, eps = epsilon)\n",
    "p5_c_2 = Newton_method(start_point_2, f5_c, df5_c, eps = epsilon)\n",
    "\n",
    "#root estimated\n",
    "root_c_1 = p5_c_1[-1]\n",
    "root_c_2 = p5_c_2[-1]\n",
    "\n",
    "#plot\n",
    "plt.subplot(121)\n",
    "plotLogErrorFigure(p5_c_1)\n",
    "plt.title('root_1 = {0:f}'.format(root_c_1))\n",
    "plt.subplot(122)\n",
    "plotLogErrorFigure(p5_c_2)\n",
    "plt.title('root_2 = {0:f}'.format(root_c_2))\n",
    "plt.show()\n",
    "\n",
    "#output\n",
    "coefs5_c_1 = calCoefficient(p5_c_1)\n",
    "coefs5_c_2 = calCoefficient(p5_c_2)\n",
    "print(\"The order calculated of root_1 is {0:f}, which is approximate equal to 2.\"\n",
    "      .format(float(coefs5_c_1[[0]])))\n",
    "print(\"The order calculated of root_2 is {0:f}, which is approximate equal to 2.\"\n",
    "      .format(float(coefs5_c_2[[0]])))"
   ]
  },
  {
   "cell_type": "markdown",
   "metadata": {},
   "source": [
    "##### In summary \n",
    "##### a)  has 2 roots:  $r_1 = -1.841406, r_2 = 1.146193$ ; and $order_{1,2} = 2$\n",
    "##### b) has 3 roots: $r_1 = 3.085532, r_2 = 1.114173, r_3=-3.199705 $ ; and $order_{1,2,3} = 2$\n",
    "##### b) has 2 roots: $r_1 = 0.158594, r_2 = 3.146193$  ; and $order_{1,2} = 2$"
   ]
  },
  {
   "cell_type": "markdown",
   "metadata": {},
   "source": [
    "###  \n",
    "###  \n",
    "###  "
   ]
  },
  {
   "cell_type": "markdown",
   "metadata": {},
   "source": [
    "###  \n",
    "###  \n",
    "###  \n",
    "###  \n",
    "###  \n",
    "###  \n",
    "###  \n",
    "###  \n",
    "###  \n",
    "###  \n",
    "###  \n",
    "###  \n",
    "###  \n",
    "###  \n",
    "###  \n",
    "###  \n",
    "###  \n",
    "###  \n",
    "###  \n",
    "### Problem 6"
   ]
  },
  {
   "cell_type": "code",
   "execution_count": 14,
   "metadata": {},
   "outputs": [
    {
     "data": {
      "image/png": "[encoded data removed]",
      "text/plain": [
       "<Figure size 432x288 with 1 Axes>"
      ]
     },
     "metadata": {
      "needs_background": "light"
     },
     "output_type": "display_data"
    },
    {
     "name": "stdout",
     "output_type": "stream",
     "text": [
      "The estimated root is 0.983456\n",
      "The order calculated of the root is 1.008207, which is approximate equal to 1.\n"
     ]
    }
   ],
   "source": [
    "#Problem 6\n",
    "#use some functions defined in Problem 5\n",
    "def f6(x):\n",
    "    var = x**4 -11*x**3 + 27*x**2 - 25*x + 8\n",
    "    return var\n",
    "def df6(x):\n",
    "    var = 4*x**3 - 33*x**2 + 54*x -25\n",
    "    return var\n",
    "\n",
    "#set parameters\n",
    "start_point = 0.5\n",
    "N = 10\n",
    "\n",
    "#iterations, get rootlist\n",
    "p6 = Newton_method(start_point_1, f6, df6, epoch = N)\n",
    "\n",
    "#root estimated\n",
    "root_6 = p6[-1]\n",
    "#calculate the absolute error\n",
    "err_6 = getError(p6, \"ordinary\")\n",
    "\n",
    "#plot the errors against iteration number\n",
    "iters = range(1, N+1)\n",
    "plt.plot(iters, err_6)\n",
    "plt.plot(iters, err_6, 'o')\n",
    "plt.xlabel('iteration numbers')\n",
    "plt.ylabel('absolute error')\n",
    "plt.grid()\n",
    "plt.show()\n",
    "\n",
    "#calculate the order\n",
    "coefs6 = calCoefficient(p6)\n",
    "print(\"The estimated root is {0:f}\".format(p6[-1]))\n",
    "print(\"The order calculated of the root is {0:f}, which is approximate equal to 1.\"\n",
    "      .format(float(coefs6[[0]])))"
   ]
  },
  {
   "cell_type": "markdown",
   "metadata": {},
   "source": [
    "###  \n",
    "###  \n",
    "### Problem 7"
   ]
  },
  {
   "cell_type": "code",
   "execution_count": 15,
   "metadata": {},
   "outputs": [
    {
     "name": "stdout",
     "output_type": "stream",
     "text": [
      "f(1) = 28, f(2) = -11\n"
     ]
    }
   ],
   "source": [
    "#Problem 7\n",
    "#(a)\n",
    "def f7(x):\n",
    "    var = x**4 - 18*(x**2) + 45\n",
    "    return var\n",
    "\n",
    "def df7(x):\n",
    "    var = 4*(x**3) -36*x\n",
    "    return var\n",
    "\n",
    "a7=1\n",
    "b7=2\n",
    "fa7 = f7(a7)\n",
    "fb7 = f7(b7)\n",
    "print(\"f(1) = {0:d}, f(2) = {1:d}\".format(fa7, fb7))"
   ]
  },
  {
   "cell_type": "markdown",
   "metadata": {},
   "source": [
    "##### $\\because f(1) = 28 > 0, f(2) = -11 < 0$\n",
    "##### $\\therefore $ The equation has a root on the interval (1, 2)."
   ]
  },
  {
   "cell_type": "code",
   "execution_count": 16,
   "metadata": {},
   "outputs": [
    {
     "name": "stdout",
     "output_type": "stream",
     "text": [
      "The estimated root is 1.732051\n",
      "The order calculated of the root is 3.012349, which is approximate equal to 3.\n"
     ]
    }
   ],
   "source": [
    "#set parameters\n",
    "start_point = 1\n",
    "N = 4\n",
    "\n",
    "#iterations, get rootlist\n",
    "p7_a = Newton_method(start_point, f7, df7, epoch = N)\n",
    "\n",
    "#root estimated\n",
    "root_7_a = p7_a[-1]\n",
    "#calculate the absolute error\n",
    "err_a = getError(p7_a, \"absolute\", 3**0.5)\n",
    "\n",
    "#calculate the order\n",
    "logerr_a = []\n",
    "for i in range(len(err_a[:-1])):\n",
    "    logerr_a.append(math.log(err_a[i]))\n",
    "x7_tmp = logerr_a[:-1]\n",
    "y7_tmp = logerr_a[1:]\n",
    "coefs7_a = np.polyfit(x7_tmp, y7_tmp, 1)\n",
    "print(\"The estimated root is {0:f}\".format(root_7_a))\n",
    "print(\"The order calculated of the root is {0:f}, which is approximate equal to 3.\"\n",
    "      .format(float(coefs7_a[[0]])))"
   ]
  },
  {
   "cell_type": "code",
   "execution_count": 17,
   "metadata": {},
   "outputs": [
    {
     "name": "stdout",
     "output_type": "stream",
     "text": [
      "The estimated root is 3.872983, starting at x = 4\n",
      "The order calculated of the root is 1.983856, which is approximate equal to 2.\n",
      "If the iteration starts at x = 3, then f'(x) = 0 and Newtom Method does not work.\n"
     ]
    }
   ],
   "source": [
    "#(b)\n",
    "#set parameters\n",
    "start_point_1 = 3\n",
    "start_point_2 = 4\n",
    "N = 4\n",
    "\n",
    "#iterations, get rootlist\n",
    "p7_b = Newton_method(start_point_2, f7, df7, epoch = N)\n",
    "\n",
    "#root estimated\n",
    "root_7_b = p7_b[-1]\n",
    "#calculate the absolute error\n",
    "err_b = getError(p7_b, \"absolute\", 15**0.5)\n",
    "\n",
    "#calculate the order\n",
    "logerr_b = []\n",
    "for i in range(len(err_b[:-1])):\n",
    "    logerr_b.append(math.log(err_b[i]))\n",
    "x7_tmp = logerr_b[:-1]\n",
    "y7_tmp = logerr_b[1:]\n",
    "coefs7_b = np.polyfit(x7_tmp, y7_tmp, 1)\n",
    "print(\"The estimated root is {0:f}, starting at x = 4\".format(root_7_b))\n",
    "print(\"The order calculated of the root is {0:f}, which is approximate equal to 2.\"\n",
    "      .format(float(coefs7_b[[0]])))\n",
    "print(\"If the iteration starts at x = 3, then f'(x) = 0 and Newtom Method does not work.\")"
   ]
  },
  {
   "cell_type": "code",
   "execution_count": 18,
   "metadata": {},
   "outputs": [
    {
     "name": "stdout",
     "output_type": "stream",
     "text": [
      "Derivative functions set evaluated at root = 3**0.5:\n",
      "[1.732, -0.0, 0.0, -2.0, -1.732]\n",
      "Derivative functions set evaluated at root = 15**0.5:\n",
      "[3.873, -0.0, 1.549, -5.2, 23.703]\n"
     ]
    }
   ],
   "source": [
    "#(c)\n",
    "def NF(x, f, df, n):\n",
    "    t = symbols('x')\n",
    "    var = t - f(t)/df(t)\n",
    "    dvar = round(diff(var, t, n).subs(t, x), 3)\n",
    "    return dvar\n",
    "\n",
    "root_1 = 3**0.5\n",
    "root_2 = 15**0.5\n",
    "t = symbols('x')\n",
    "\n",
    "Fx_1 = []\n",
    "Fx_2 = []\n",
    "for i in range(5):\n",
    "    Fx_1.append(NF(root_1, f7, df7, i))\n",
    "    Fx_2.append(NF(root_2, f7, df7, i))\n",
    "print(\"Derivative functions set evaluated at root = 3**0.5:\")\n",
    "print(Fx_1)\n",
    "print(\"Derivative functions set evaluated at root = 15**0.5:\")\n",
    "print(Fx_2)"
   ]
  },
  {
   "cell_type": "markdown",
   "metadata": {},
   "source": [
    "##### The function of Newton's method is $\\varphi(x)=x-\\frac{f(x)}{f'(x)} $.  From the output, it shows that \n",
    "##### $\\varphi'(\\sqrt3)=\\varphi^{(2)}(\\sqrt3) = 0, but\\space \\varphi^{(3)}(\\sqrt{3})\\neq 0$\n",
    "##### $\\varphi'(\\sqrt{15}) = 0 ,but\\space \\varphi^{(2)}(\\sqrt{15})\\neq 0$\n",
    "##### So the order of convergence of root $\\sqrt3$ is 3,\n",
    "##### The order of convergence of root $\\sqrt{15}$ is 2."
   ]
  },
  {
   "cell_type": "markdown",
   "metadata": {},
   "source": [
    "###  \n",
    "###  \n",
    "###  "
   ]
  },
  {
   "cell_type": "markdown",
   "metadata": {},
   "source": [
    "###  \n",
    "###  \n",
    "###  "
   ]
  },
  {
   "cell_type": "markdown",
   "metadata": {},
   "source": [
    "###  \n",
    "###  \n",
    "###  \n",
    "###  \n",
    "###  \n",
    "###  \n",
    "###  \n",
    "###  \n",
    "###  \n",
    "###  \n",
    "###  \n",
    "###  \n",
    "###  \n",
    "###  \n",
    "###  \n",
    "###  \n",
    "### Problem 8"
   ]
  },
  {
   "cell_type": "code",
   "execution_count": 19,
   "metadata": {},
   "outputs": [],
   "source": [
    "#Problem 8\n",
    "#define the secant method\n",
    "def secant_method(f, start_point1, start_point2, epoch = 0, eps = -1):\n",
    "    x = []\n",
    "    x.append(start_point1)\n",
    "    x.append(start_point2)\n",
    "    if epoch != 0:\n",
    "        for i in range(epoch):\n",
    "            x_tmp = x[-1] - f(x[-1])*(x[-1]-x[-2])/(f(x[-1])-f(x[-2]))\n",
    "            x.append(x_tmp)\n",
    "    if eps != -1:\n",
    "        while(abs(x[-1]-x[-2]) > eps):\n",
    "            x_tmp = x[-1] - f(x[-1])*(x[-1]-x[-2])/(f(x[-1])-f(x[-2]))\n",
    "            x.append(x_tmp)\n",
    "    return x"
   ]
  },
  {
   "cell_type": "code",
   "execution_count": 20,
   "metadata": {},
   "outputs": [
    {
     "data": {
      "image/png": "[encoded data removed]",
      "text/plain": [
       "<Figure size 432x288 with 1 Axes>"
      ]
     },
     "metadata": {
      "needs_background": "light"
     },
     "output_type": "display_data"
    },
    {
     "name": "stdout",
     "output_type": "stream",
     "text": [
      "The order calculated of the root is 1.003039.\n"
     ]
    }
   ],
   "source": [
    "#(a)\n",
    "def f8_a(x):\n",
    "    var = x * math.sin(x)\n",
    "    return var\n",
    "\n",
    "#set parameters\n",
    "start_point_1 = -1\n",
    "start_point_2 = 0.5\n",
    "Nmax = 25\n",
    "\n",
    "#iterations, get the rootlist\n",
    "p8_a = secant_method(f8_a, start_point_1, start_point_2, Nmax)\n",
    "root_8_a = p8_a[-1]\n",
    "\n",
    "err_8_a = getError(p8_a, \"absolute\", 0)\n",
    "\n",
    "#calculate the order\n",
    "logerr_8_a = []\n",
    "for i in range(len(err_8_a[:-1])):\n",
    "    logerr_8_a.append(math.log(err_8_a[i]))\n",
    "\n",
    "x8a_tmp = logerr_8_a[:-1]\n",
    "y8a_tmp = logerr_8_a[1:]\n",
    "coefs8_a = np.polyfit(x8a_tmp, y8a_tmp, 1)\n",
    "plotLogErrorFigure(p8_a)\n",
    "plt.show()\n",
    "\n",
    "print(\"The order calculated of the root is {0:f}.\"\n",
    "      .format(float(coefs8_a[[0]])))"
   ]
  },
  {
   "cell_type": "code",
   "execution_count": 21,
   "metadata": {},
   "outputs": [
    {
     "data": {
      "image/png": "[encoded data removed]",
      "text/plain": [
       "<Figure size 432x288 with 1 Axes>"
      ]
     },
     "metadata": {
      "needs_background": "light"
     },
     "output_type": "display_data"
    },
    {
     "name": "stdout",
     "output_type": "stream",
     "text": [
      "The order calculated of the root is 1.003073.\n"
     ]
    }
   ],
   "source": [
    "#(b)\n",
    "def f8_b(x):\n",
    "    var = 27*x**4 + 162*x**3 - 180*x**2 + 62*x -7 \n",
    "    return var\n",
    "\n",
    "#set parameters\n",
    "start_point_1 = 0\n",
    "start_point_2 = 1.5\n",
    "Nmax = 25\n",
    "\n",
    "#iterations, get the rootlist\n",
    "p8_b = secant_method(f8_b, start_point_1, start_point_2, Nmax)\n",
    "root_8_b = p8_b[-1]\n",
    "err_8_b = getError(p8_b, \"absolute\", 1/3)\n",
    "\n",
    "#calculate the order\n",
    "logerr_8_b = []\n",
    "for i in range(len(err_8_b[:-1])):\n",
    "    logerr_8_b.append(math.log(err_8_b[i]))\n",
    "\n",
    "x8b_tmp = logerr_8_b[:-1]\n",
    "y8b_tmp = logerr_8_b[1:]\n",
    "coefs8_b = np.polyfit(x8b_tmp, y8b_tmp, 1)\n",
    "plotLogErrorFigure(p8_b)\n",
    "\n",
    "plt.show()\n",
    "\n",
    "print(\"The order calculated of the root is {0:f}.\"\n",
    "      .format(float(coefs8_b[[0]])))"
   ]
  },
  {
   "cell_type": "markdown",
   "metadata": {},
   "source": [
    "##### From the analysis above, we can find the order of the secant method dropped to 1 when the roots are of multiplicity."
   ]
  }
 ],
 "metadata": {
  "kernelspec": {
   "display_name": "Python 3",
   "language": "python",
   "name": "python3"
  },
  "language_info": {
   "codemirror_mode": {
    "name": "ipython",
    "version": 3
   },
   "file_extension": ".py",
   "mimetype": "text/x-python",
   "name": "python",
   "nbconvert_exporter": "python",
   "pygments_lexer": "ipython3",
   "version": "3.7.3"
  }
 },
 "nbformat": 4,
 "nbformat_minor": 2
}
